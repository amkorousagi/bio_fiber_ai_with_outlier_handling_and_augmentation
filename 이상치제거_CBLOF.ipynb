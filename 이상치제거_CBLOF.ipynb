{
  "cells": [
    {
      "cell_type": "code",
      "execution_count": null,
      "metadata": {
        "colab": {
          "base_uri": "https://localhost:8080/"
        },
        "id": "DImyRhQQdb40",
        "outputId": "25187144-c490-4fef-b024-19374666f6cc"
      },
      "outputs": [
        {
          "name": "stdout",
          "output_type": "stream",
          "text": [
            "      no  Spinbeam_temp  Roller1_speed  Roller2_speed  Roller2_Temp  \\\n",
            "0      1            256           3500           4039            95   \n",
            "1      2            256           3500           4039            95   \n",
            "2      3            256           3500           4039            95   \n",
            "3      4            256           3500           4039            95   \n",
            "4      5            258           1500           4039            95   \n",
            "..   ...            ...            ...            ...           ...   \n",
            "811  812            268           1490           4105           100   \n",
            "812  813            268           1490           4105           100   \n",
            "813  814            268           1500           4105           100   \n",
            "814  815            268           1500           4105           100   \n",
            "815  816            268           1500           4105           100   \n",
            "\n",
            "     Draw_ratio  F/R_speed  Tenacity  Elongation  \n",
            "0         1.154       4000      2.75       59.20  \n",
            "1         1.154       4000      2.62       59.30  \n",
            "2         1.154       4000      2.59       55.40  \n",
            "3         1.154       4000      2.54       56.30  \n",
            "4         2.693       4000      3.90       30.40  \n",
            "..          ...        ...       ...         ...  \n",
            "811       2.755       4000      3.60       35.14  \n",
            "812       2.755       4000      3.10       29.23  \n",
            "813       2.737       4000      3.56       36.21  \n",
            "814       2.737       4000      3.56       34.97  \n",
            "815       2.737       4000      3.47       32.21  \n",
            "\n",
            "[816 rows x 9 columns]\n"
          ]
        }
      ],
      "source": [
        "import pandas as pd\n",
        "\n",
        "df = pd.read_excel(\"/content/process_data.xlsx\")\n",
        "print(df)"
      ]
    },
    {
      "cell_type": "code",
      "execution_count": null,
      "metadata": {
        "colab": {
          "base_uri": "https://localhost:8080/",
          "height": 295
        },
        "id": "D_ADwefEmzow",
        "outputId": "d836291a-0655-4321-b268-d714fcee4363"
      },
      "outputs": [
        {
          "data": {
            "image/png": "[encoded data removed]",
            "text/plain": [
              "<Figure size 400x300 with 1 Axes>"
            ]
          },
          "metadata": {},
          "output_type": "display_data"
        }
      ],
      "source": [
        "import matplotlib.pyplot as plt\n",
        "import seaborn as sns\n",
        "\n",
        "\n",
        "df.head()\n",
        "\n",
        "plt.boxplot(df[\"Tenacity\"])\n",
        "plt.show()"
      ]
    },
    {
      "cell_type": "code",
      "execution_count": null,
      "metadata": {},
      "outputs": [],
      "source": [
        "!pip install pyod"
      ]
    },
    {
      "cell_type": "code",
      "execution_count": null,
      "metadata": {
        "colab": {
          "base_uri": "https://localhost:8080/"
        },
        "id": "M1tMBvt04d5M",
        "outputId": "6ffe7f48-6478-43ea-96d3-c1fcbe8356f5"
      },
      "outputs": [
        {
          "data": {
            "text/plain": [
              "CBLOF(alpha=0.9, beta=5, check_estimator=False, clustering_estimator=None,\n",
              "   contamination=0.1, n_clusters=8, n_jobs=None, random_state=None,\n",
              "   use_weights=False)"
            ]
          },
          "execution_count": 47,
          "metadata": {},
          "output_type": "execute_result"
        }
      ],
      "source": [
        "from pyod.models.cblof import CBLOF   # kNN detector\n",
        "\n",
        "clf = CBLOF()\n",
        "# 모든 공정변수 고려한 군집화\n",
        "clf.fit(df)"
      ]
    },
    {
      "cell_type": "code",
      "execution_count": null,
      "metadata": {
        "colab": {
          "base_uri": "https://localhost:8080/"
        },
        "id": "4ik0kKnV6cxI",
        "outputId": "a202898c-0f0d-41ab-a322-f5d060bcb7a1"
      },
      "outputs": [
        {
          "name": "stdout",
          "output_type": "stream",
          "text": [
            "[1 1 1 1 0 0 0 0 1 1 1 1 1 1 1 1 0 0 0 0 1 1 1 1 1 1 1 1 0 0 0 0 0 1 1 1 1\n",
            " 1 1 1 1 0 0 0 0 1 1 1 1 0 0 0 0 1 1 1 1 0 0 0 0 1 1 1 1 0 0 0 0 0 0 0 0 0\n",
            " 0 0 0 0 0 0 0 1 1 1 1 0 0 0 0 0 0 0 0 0 0 0 0 1 1 1 1 0 0 0 0 0 0 0 0 0 0\n",
            " 0 0 0 0 0 0 1 1 1 1 0 0 0 0 0 0 0 0 0 0 0 0 0 0 0 0 0 0 0 0 0 0 0 0 0 0 0\n",
            " 0 0 0 0 0 1 0 0 1 0 0 0 0 0 0 0 0 1 1 1 1 0 0 0 0 0 0 0 0 0 0 0 0 0 0 0 0\n",
            " 1 1 1 1 0 0 0 0 0 0 0 0 0 0 0 0 0 0 0 0 1 1 1 1 0 0 0 0 0 0 0 0 0 0 0 0 0\n",
            " 0 0 0 1 1 1 1 1 1 1 1 1 1 1 1 1 1 1 1 0 0 0 0 0 0 0 0 0 0 0 0 0 0 0 0 0 0\n",
            " 0 0 0 0 0 0 0 0 0 0 0 0 0 0 0 0 0 0 0 0 0 0 0 0 0 0 0 0 0 0 0 0 0 0 0 0 0\n",
            " 0 0 0 0 0 0 0 0 0 0 0 0 0 0 0 0 0 0 0 0 0 0 0 0 0 0 0 0 0 0 0 0 0 0 0 0 0\n",
            " 0 0 0 0 0 0 0 0 0 0 0 0 0 0 0 0 0 0 0 0 0 0 0 0 0 0 0 0 0 0 0 0 0 0 0 0 0\n",
            " 0 0 0 0 0 0 0 0 0 0 0 0 0 0 0 0 0 0 0 0 0 0 0 0 0 0 0 0 0 0 0 0 0 0 0 0 0\n",
            " 0 0 0 0 0 0 0 0 0 0 0 0 0 0 0 0 0 0 0 0 0 0 0 0 0 0 0 0 0 0 0 0 0 0 0 0 0\n",
            " 0 0 0 0 0 0 0 0 0 0 0 0 0 0 0 0 0 0 0 0 0 0 0 0 0 0 0 0 0 0 0 0 0 0 0 0 0\n",
            " 0 0 0 0 0 0 0 0 0 0 0 0 0 0 0 0 0 0 0 0 0 0 0 0 0 0 0 0 0 0 0 0 0 0 0 0 0\n",
            " 0 0 0 0 0 0 0 0 0 0 0 0 0 0 0 0 0 0 0 0 0 0 0 0 0 0 0 0 0 0 0 0 0 0 0 0 0\n",
            " 0 0 0 0 0 0 0 0 0 0 0 0 0 0 0 0 0 0 0 0 0 0 0 0 0 0 0 0 0 0 0 0 0 0 0 0 0\n",
            " 0 0 0 0 0 0 0 0 0 0 0 0 0 0 0 0 0 0 0 0 0 0 0 0 0 0 0 0 0 0 0 0 0 0 0 0 0\n",
            " 0 0 0 0 0 0 0 0 0 0 0 0 0 0 0 0 0 0 0 0 0 0 0 0 0 0 0 0 0 0 0 0 0 0 0 0 0\n",
            " 0 0 0 0 0 0 0 0 0 0 0 0 0 0 0 0 0 0 0 0 0 0 0 0 0 0 0 0 0 0 0 0 0 0 0 0 0\n",
            " 0 0 0 0 0 0 0 0 0 0 0 0 0 0 0 0 0 0 0 0 0 0 0 0 0 0 0 0 0 0 0 0 0 0 0 0 0\n",
            " 0 0 0 0 0 0 0 0 0 0 0 0 0 0 0 0 0 0 0 0 0 0 0 0 0 0 0 0 0 0 0 0 0 0 0 0 0\n",
            " 0 0 0 0 0 0 0 0 0 0 0 0 0 0 0 0 0 0 0 0 0 0 0 0 0 0 0 0 0 0 0 0 0 0 0 0 0\n",
            " 0 0]\n"
          ]
        }
      ],
      "source": [
        "y_train_pred = clf.labels_\n",
        "print(y_train_pred)"
      ]
    },
    {
      "cell_type": "code",
      "execution_count": null,
      "metadata": {
        "colab": {
          "base_uri": "https://localhost:8080/",
          "height": 295
        },
        "id": "fVp_Ceq27kUP",
        "outputId": "761c3eae-6e58-49e4-d732-8ac410e72a78"
      },
      "outputs": [
        {
          "data": {
            "image/png": "[encoded data removed]",
            "text/plain": [
              "<Figure size 400x300 with 1 Axes>"
            ]
          },
          "metadata": {},
          "output_type": "display_data"
        }
      ],
      "source": [
        "plt.scatter(df[\"Spinbeam_temp\"],df[\"Tenacity\"],c=y_train_pred,label=y_train_pred)\n",
        "plt.show()"
      ]
    },
    {
      "cell_type": "code",
      "execution_count": null,
      "metadata": {
        "colab": {
          "base_uri": "https://localhost:8080/"
        },
        "id": "Hf6jD0tx7-17",
        "outputId": "883d6f18-e3a8-41e4-a094-9b8f20acef40"
      },
      "outputs": [
        {
          "name": "stdout",
          "output_type": "stream",
          "text": [
            "82\n"
          ]
        }
      ],
      "source": [
        "# 이상치 개수를 세린다\n",
        "cnt = 0\n",
        "for a in y_train_pred:\n",
        "  if(a == 1):\n",
        "    cnt = cnt+1\n",
        "print(cnt)"
      ]
    },
    {
      "cell_type": "code",
      "execution_count": null,
      "metadata": {
        "id": "KCMGOFr_-gdz"
      },
      "outputs": [],
      "source": [
        "clf = CBLOF()\n",
        "# 오로지 Tenacity만 고려한 군집화\n",
        "clf.fit(df[\"Tenacity\"].values.reshape(-1, 1))\n",
        "labeled = clf.labels_"
      ]
    },
    {
      "cell_type": "code",
      "execution_count": null,
      "metadata": {
        "colab": {
          "base_uri": "https://localhost:8080/"
        },
        "id": "dCoWOIiQ_xLd",
        "outputId": "1c4b3321-c7dc-49b6-c50b-a977c44766d4"
      },
      "outputs": [
        {
          "name": "stdout",
          "output_type": "stream",
          "text": [
            "81\n"
          ]
        }
      ],
      "source": [
        "cnt = 0\n",
        "for a in labeled:\n",
        "  if(a == 1):\n",
        "    cnt = cnt+1\n",
        "print(cnt)"
      ]
    }
  ],
  "metadata": {
    "colab": {
      "provenance": []
    },
    "kernelspec": {
      "display_name": "Python 3.10.2 64-bit",
      "language": "python",
      "name": "python3"
    },
    "language_info": {
      "name": "python",
      "version": "3.10.2"
    },
    "vscode": {
      "interpreter": {
        "hash": "933c949018242cbf6c723973c47a4eda084161eac1b2d6364d7009edd70a1b48"
      }
    }
  },
  "nbformat": 4,
  "nbformat_minor": 0
}
