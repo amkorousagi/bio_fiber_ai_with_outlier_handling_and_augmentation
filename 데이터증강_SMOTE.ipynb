{
  "cells": [
    {
      "cell_type": "code",
      "execution_count": null,
      "metadata": {
        "colab": {
          "base_uri": "https://localhost:8080/"
        },
        "id": "W4lvXlN9-Ra_",
        "outputId": "a2c712c6-8315-457e-faa6-939e202ee7de"
      },
      "outputs": [
        {
          "name": "stdout",
          "output_type": "stream",
          "text": [
            "Looking in indexes: https://pypi.org/simple, https://us-python.pkg.dev/colab-wheels/public/simple/\n",
            "Requirement already satisfied: imblearn in /usr/local/lib/python3.7/dist-packages (0.0)\n",
            "Requirement already satisfied: imbalanced-learn in /usr/local/lib/python3.7/dist-packages (from imblearn) (0.8.1)\n",
            "Requirement already satisfied: scipy>=0.19.1 in /usr/local/lib/python3.7/dist-packages (from imbalanced-learn->imblearn) (1.7.3)\n",
            "Requirement already satisfied: scikit-learn>=0.24 in /usr/local/lib/python3.7/dist-packages (from imbalanced-learn->imblearn) (1.0.2)\n",
            "Requirement already satisfied: numpy>=1.13.3 in /usr/local/lib/python3.7/dist-packages (from imbalanced-learn->imblearn) (1.21.6)\n",
            "Requirement already satisfied: joblib>=0.11 in /usr/local/lib/python3.7/dist-packages (from imbalanced-learn->imblearn) (1.1.0)\n",
            "Requirement already satisfied: threadpoolctl>=2.0.0 in /usr/local/lib/python3.7/dist-packages (from scikit-learn>=0.24->imbalanced-learn->imblearn) (3.1.0)\n"
          ]
        }
      ],
      "source": [
        "!pip install imblearn"
      ]
    },
    {
      "cell_type": "code",
      "execution_count": null,
      "metadata": {
        "colab": {
          "base_uri": "https://localhost:8080/"
        },
        "id": "DImyRhQQdb40",
        "outputId": "43096b3c-c442-4280-9ec4-2889a5a44b69"
      },
      "outputs": [
        {
          "name": "stdout",
          "output_type": "stream",
          "text": [
            "      no  Spinbeam_temp  Roller1_speed  Roller2_speed  Roller2_temp     DR  \\\n",
            "0      1            256           3500           4039            95  1.154   \n",
            "1      2            256           3500           4039            95  1.154   \n",
            "2      3            256           3500           4039            95  1.154   \n",
            "3      4            256           3500           4039            95  1.154   \n",
            "4      5            258           1500           4039            95  2.693   \n",
            "..   ...            ...            ...            ...           ...    ...   \n",
            "791  792            268           1490           4105           100  2.755   \n",
            "792  793            268           1490           4105           100  2.755   \n",
            "793  794            268           1500           4105           100  2.737   \n",
            "794  795            268           1500           4105           100  2.737   \n",
            "795  796            268           1500           4105           100  2.737   \n",
            "\n",
            "     FR_speed  Tenacity  Elongation  \n",
            "0        4000      2.75       59.20  \n",
            "1        4000      2.62       59.30  \n",
            "2        4000      2.59       55.40  \n",
            "3        4000      2.54       56.30  \n",
            "4        4000      3.90       30.40  \n",
            "..        ...       ...         ...  \n",
            "791      4000      3.60       35.14  \n",
            "792      4000      3.10       29.23  \n",
            "793      4000      3.56       36.21  \n",
            "794      4000      3.56       34.97  \n",
            "795      4000      3.47       32.21  \n",
            "\n",
            "[796 rows x 9 columns]\n"
          ]
        }
      ],
      "source": [
        "import pandas as pd\n",
        "import matplotlib.pyplot as plt\n",
        "import seaborn as sns\n",
        "\n",
        "df = pd.read_excel(\"/content/ro_data.xlsx\")\n",
        "\n",
        "print(df)"
      ]
    },
    {
      "cell_type": "code",
      "execution_count": null,
      "metadata": {
        "colab": {
          "base_uri": "https://localhost:8080/"
        },
        "id": "3QdZyTYr_mQO",
        "outputId": "1a8b8be7-8a32-4a70-ddb8-45cb701bf5b3"
      },
      "outputs": [
        {
          "name": "stdout",
          "output_type": "stream",
          "text": [
            "[1, 1, 1, 1, 1, 1, 1, 1, 1, 1, 1, 1, 0, 0, 0, 0, 0, 0, 0, 0, 0, 0, 0, 0, 1, 1, 1, 1, 1, 1, 1, 1, 1, 1, 1, 1, 1, 1, 1, 1, 1, 1, 1, 1, 1, 1, 1, 1, 1, 1, 1, 1, 1, 1, 1, 1, 1, 1, 1, 1, 1, 1, 1, 1, 1, 1, 1, 1, 0, 0, 0, 0, 1, 1, 1, 1, 0, 0, 0, 0, 1, 1, 1, 1, 0, 0, 0, 0, 0, 0, 0, 0, 0, 0, 0, 0, 0, 0, 0, 0, 0, 0, 0, 0, 0, 0, 0, 0, 0, 0, 0, 0, 0, 0, 0, 0, 0, 0, 0, 0, 0, 0, 0, 0, 0, 0, 0, 0, 0, 0, 0, 0, 0, 0, 0, 0, 0, 0, 0, 0, 0, 0, 0, 0, 0, 0, 0, 0, 0, 0, 0, 0, 0, 0, 0, 0, 0, 0, 0, 0, 0, 0, 0, 0, 0, 0, 0, 0, 0, 0, 0, 0, 0, 0, 0, 0, 0, 0, 0, 0, 0, 0, 0, 0, 0, 0, 0, 0, 0, 0, 0, 0, 0, 0, 0, 0, 0, 0, 0, 0, 0, 0, 0, 0, 0, 0, 0, 0, 0, 0, 0, 0, 0, 0, 0, 0, 0, 0, 0, 0, 0, 0, 0, 0, 0, 0, 0, 0, 0, 0, 0, 0, 0, 0, 0, 0, 0, 0, 0, 0, 0, 0, 0, 0, 0, 0, 0, 0, 0, 0, 0, 0, 0, 0, 0, 0, 0, 0, 0, 0, 0, 0, 0, 0, 0, 0, 0, 0, 0, 0, 0, 0, 0, 0, 0, 0, 0, 0, 0, 0, 0, 0, 0, 0, 0, 0, 0, 0, 0, 0, 0, 0, 0, 0, 0, 0, 0, 0, 0, 0, 0, 0, 0, 0, 0, 0, 0, 0, 0, 0, 0, 0, 0, 0, 0, 0, 0, 0, 0, 0, 0, 0, 0, 0, 0, 0, 0, 0, 0, 0, 0, 0, 0, 0, 0, 0, 0, 0, 0, 0, 0, 0, 0, 0, 0, 0, 0, 0, 0, 0, 0, 0, 0, 0, 0, 0, 0, 0, 0, 0, 0, 0, 0, 0, 0, 0, 0, 0, 0, 0, 0, 0, 0, 0, 0, 0, 0, 0, 0, 0, 0, 0, 0, 0, 0, 0, 0, 0, 0, 0, 0, 0, 0, 0, 0, 0, 0, 0, 0, 0, 0, 0, 0, 0, 0, 0, 0, 0, 0, 0, 0, 0, 0, 0, 0, 0, 0, 0, 0, 0, 0, 0, 0, 0, 0, 0, 0, 0, 0, 0, 0, 0, 0, 0, 0, 0, 0, 0, 0, 0, 0, 0, 0, 0, 0, 0, 0, 0, 0, 0, 0, 0, 0, 0, 0, 0, 0, 0, 0, 0, 0, 0, 0, 0, 0, 0, 0, 0, 0, 0, 0, 0, 0, 0, 0, 0, 0, 0, 0, 0, 0, 0, 0, 0, 0, 0, 0, 0, 0, 0, 0, 0, 0, 0, 0, 0, 0, 0, 0, 0, 0, 0, 0, 0, 0, 0, 0, 0, 0, 0, 0, 0, 0, 0, 0, 0, 0, 0, 0, 0, 0, 0, 0, 0, 0, 0, 0, 0, 0, 0, 0, 0, 0, 0, 0, 0, 0, 0, 0, 0, 0, 0, 0, 0, 0, 0, 0, 0, 0, 0, 0, 0, 0, 0, 0, 0, 0, 0, 0, 0, 0, 0, 0, 0, 0, 0, 0, 0, 0, 0, 0, 0, 0, 0, 0, 0, 0, 0, 0, 0, 0, 0, 0, 0, 0, 0, 0, 0, 0, 0, 0, 0, 0, 0, 0, 0, 0, 0, 0, 0, 0, 0, 0, 0, 0, 0, 0, 0, 0, 0, 0, 0, 0, 0, 0, 0, 0, 0, 0, 0, 0, 0, 0, 0, 0, 0, 0, 0, 0, 0, 0, 0, 0, 0, 0, 0, 0, 0, 0, 0, 0, 0, 0, 0, 0, 0, 0, 0, 0, 0, 0, 0, 0, 0, 0, 0, 0, 0, 0, 0, 0, 0, 0, 0, 0, 0, 0, 0, 0, 0, 0, 0, 0, 0, 0, 0, 0, 0, 0, 0, 0, 0, 0, 0, 0, 0, 0, 0, 0, 0, 0, 0, 0, 0, 0, 0, 0, 0, 0, 0, 0, 0, 0, 0, 0, 0, 0, 0, 0, 0, 0, 0, 0, 0, 0, 0, 0, 0, 0, 0, 0, 0, 0, 0, 0, 0, 0, 0, 0, 0, 0, 0, 0, 0, 0, 0, 0, 0, 0, 0, 0, 0, 0, 0, 0, 0, 0, 0, 0, 0, 0, 0, 0, 0, 0, 0, 0, 0, 0, 0, 0, 0, 0, 0, 0, 0, 0, 0, 0, 0, 0, 0, 0, 0, 0, 0, 0, 0, 0, 0, 0, 0, 0, 0, 0, 0, 0, 0, 0, 0, 0, 0, 0, 0, 0, 0]\n"
          ]
        }
      ],
      "source": [
        "# SMOTE를 위한 라벨을 만든다.\n",
        "# 대상으로 하고자하는 공정변수에 대해 이진 클래스 분류를 한다.\n",
        "y = []\n",
        "for i, r in df.iterrows():\n",
        "  if r[\"Roller2_temp\"] == 100:\n",
        "    y.append(0)\n",
        "  else:\n",
        "    y.append(1)\n",
        "print(y)"
      ]
    },
    {
      "cell_type": "code",
      "execution_count": null,
      "metadata": {
        "id": "8RTvDeR5E2Mu"
      },
      "outputs": [],
      "source": [
        "def bal(x):\n",
        "  l = x.shape[0]\n",
        "  spin1 = 0\n",
        "  spin2 = 0\n",
        "  spin3 = 0\n",
        "  r1s1 = 0\n",
        "  r1s2 = 0\n",
        "  r2s1 = 0\n",
        "  r2s2 = 0\n",
        "  r2t1 = 0\n",
        "  r2t2 = 0\n",
        "  frs1 = 0\n",
        "  frs2 = 0\n",
        "  frs3 = 0\n",
        "  frs4 = 0\n",
        "  for i,r in x.iterrows():\n",
        "    if 250 <= r[\"Spinbeam_temp\"] <= 253:\n",
        "      spin1 = spin1 +1\n",
        "    if  262 <= r[\"Spinbeam_temp\"] <= 265:\n",
        "      spin2 = spin2 +1\n",
        "    if  266 <= r[\"Spinbeam_temp\"] <= 268:\n",
        "      spin3 = spin3 +1\n",
        "    if 1000 <= r[\"Roller1_speed\"] <= 1200:\n",
        "      r1s1 = r1s1 +1\n",
        "    if 1501 <= r[\"Roller1_speed\"] <= 3500:\n",
        "      r1s2 = r1s2 +1\n",
        "    if 4039 == r[\"Roller2_speed\"]:\n",
        "      r2s1 = r2s1 +1\n",
        "    if 4140 <= r[\"Roller2_speed\"] <= 4520:\n",
        "      r2s2 = r2s2 +1\n",
        "    if 95 == r[\"Roller2_temp\"]:\n",
        "      r2t1 = r2t1 +1\n",
        "    if 105 == r[\"Roller2_temp\"]:\n",
        "      r2t2 = r2t2 +1\n",
        "    if 4100 == r[\"FR_speed\"]:\n",
        "      frs1 = frs1 +1\n",
        "    if 4200 == r[\"FR_speed\"]:\n",
        "      frs2 = frs2 +1\n",
        "    if 4300 == r[\"FR_speed\"]:\n",
        "      frs3 = frs3 +1\n",
        "    if 4100 == r[\"FR_speed\"]:\n",
        "      frs4 = frs4 +1\n",
        "  print(\"Spinbeam_temp1 \", (spin1/l)*100 , \"%\")\n",
        "  print(\"Spinbeam_temp2 \", (spin2/l)*100 , \"%\")\n",
        "  print(\"Spinbeam_temp3 \", (spin3/l)*100 , \"%\")\n",
        "  print(\"Roller1_speed1 \", (r1s1/l)*100 , \"%\")\n",
        "  print(\"Roller1_speed2 \", (r1s2/l)*100 , \"%\")\n",
        "  print(\"Roller2_speed1 \", (r2s1/l)*100 , \"%\")\n",
        "  print(\"Roller2_speed2 \", (r2s2/l)*100 , \"%\")\n",
        "  print(\"           Roller2_temp1 95 \", (r2t1/l)*100 , \"%\")\n",
        "  print(\"           Roller2_temp2 105 \", (r2t2/l)*100 , \"%\")\n",
        "  print(\"FR_speed1 \", (frs1/l)*100 , \"%\")\n",
        "  print(\"FR_speed2 \", (frs2/l)*100 , \"%\")\n",
        "  print(\"FR_speed3 \", (frs3/l)*100 , \"%\")\n",
        "  print(\"FR_speed4 \", (frs4/l)*100 , \"%\")"
      ]
    },
    {
      "cell_type": "code",
      "execution_count": null,
      "metadata": {},
      "outputs": [],
      "source": [
        "from imblearn.over_sampling import RandomOverSampler, SMOTE\n",
        "from collections import Counter\n"
      ]
    },
    {
      "cell_type": "code",
      "execution_count": null,
      "metadata": {
        "colab": {
          "base_uri": "https://localhost:8080/"
        },
        "id": "By8dzG_1LhKn",
        "outputId": "cd1df5e2-eca8-4ccf-84d3-44018cf25f19"
      },
      "outputs": [
        {
          "name": "stdout",
          "output_type": "stream",
          "text": [
            "Spinbeam_temp1  7.035519125683059 %\n",
            "Spinbeam_temp2  5.669398907103825 %\n",
            "Spinbeam_temp3  5.46448087431694 %\n",
            "Roller1_speed1  3.415300546448088 %\n",
            "Roller1_speed2  38.9344262295082 %\n",
            "Roller2_speed1  32.650273224043715 %\n",
            "Roller2_speed2  26.297814207650273 %\n",
            "           Roller2_temp1 95  44.330601092896174 %\n",
            "           Roller2_temp2 105  5.669398907103825 %\n",
            "FR_speed1  8.743169398907105 %\n",
            "FR_speed2  12.158469945355192 %\n",
            "FR_speed3  2.73224043715847 %\n",
            "FR_speed4  8.743169398907105 %\n"
          ]
        }
      ],
      "source": [
        "# SMOTE\n",
        "smote = SMOTE(random_state=42, k_neighbors=5)\n",
        "X_smote, y_smote = ros.fit_resample(df,y)\n",
        "\n",
        "bal(X_smote)"
      ]
    }
  ],
  "metadata": {
    "colab": {
      "provenance": []
    },
    "kernelspec": {
      "display_name": "Python 3.10.2 64-bit",
      "language": "python",
      "name": "python3"
    },
    "language_info": {
      "name": "python",
      "version": "3.10.2"
    },
    "vscode": {
      "interpreter": {
        "hash": "933c949018242cbf6c723973c47a4eda084161eac1b2d6364d7009edd70a1b48"
      }
    }
  },
  "nbformat": 4,
  "nbformat_minor": 0
}
