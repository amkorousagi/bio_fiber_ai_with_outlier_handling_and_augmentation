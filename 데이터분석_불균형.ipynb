{
  "cells": [
    {
      "cell_type": "code",
      "execution_count": null,
      "metadata": {
        "colab": {
          "base_uri": "https://localhost:8080/"
        },
        "id": "DImyRhQQdb40",
        "outputId": "43096b3c-c442-4280-9ec4-2889a5a44b69"
      },
      "outputs": [
        {
          "name": "stdout",
          "output_type": "stream",
          "text": [
            "      no  Spinbeam_temp  Roller1_speed  Roller2_speed  Roller2_temp     DR  \\\n",
            "0      1            256           3500           4039            95  1.154   \n",
            "1      2            256           3500           4039            95  1.154   \n",
            "2      3            256           3500           4039            95  1.154   \n",
            "3      4            256           3500           4039            95  1.154   \n",
            "4      5            258           1500           4039            95  2.693   \n",
            "..   ...            ...            ...            ...           ...    ...   \n",
            "791  792            268           1490           4105           100  2.755   \n",
            "792  793            268           1490           4105           100  2.755   \n",
            "793  794            268           1500           4105           100  2.737   \n",
            "794  795            268           1500           4105           100  2.737   \n",
            "795  796            268           1500           4105           100  2.737   \n",
            "\n",
            "     FR_speed  Tenacity  Elongation  \n",
            "0        4000      2.75       59.20  \n",
            "1        4000      2.62       59.30  \n",
            "2        4000      2.59       55.40  \n",
            "3        4000      2.54       56.30  \n",
            "4        4000      3.90       30.40  \n",
            "..        ...       ...         ...  \n",
            "791      4000      3.60       35.14  \n",
            "792      4000      3.10       29.23  \n",
            "793      4000      3.56       36.21  \n",
            "794      4000      3.56       34.97  \n",
            "795      4000      3.47       32.21  \n",
            "\n",
            "[796 rows x 9 columns]\n"
          ]
        }
      ],
      "source": [
        "import pandas as pd\n",
        "import matplotlib.pyplot as plt\n",
        "import seaborn as sns\n",
        "\n",
        "df = pd.read_excel(\"/content/ro_data.xlsx\")\n",
        "\n",
        "print(df)"
      ]
    },
    {
      "cell_type": "code",
      "execution_count": null,
      "metadata": {
        "id": "8RTvDeR5E2Mu"
      },
      "outputs": [],
      "source": [
        "# 각 공정변수의 소수 구간에 해당하는 특정 구간(또는 값)의 %를 출력함\n",
        "def bal(x):\n",
        "  l = x.shape[0]\n",
        "  spin1 = 0\n",
        "  spin2 = 0\n",
        "  spin3 = 0\n",
        "  r1s1 = 0\n",
        "  r1s2 = 0\n",
        "  r2s1 = 0\n",
        "  r2s2 = 0\n",
        "  r2t1 = 0\n",
        "  r2t2 = 0\n",
        "  frs1 = 0\n",
        "  frs2 = 0\n",
        "  frs3 = 0\n",
        "  frs4 = 0\n",
        "  for i,r in x.iterrows():\n",
        "    if 250 <= r[\"Spinbeam_temp\"] <= 253:\n",
        "      spin1 = spin1 +1\n",
        "    if  262 <= r[\"Spinbeam_temp\"] <= 265:\n",
        "      spin2 = spin2 +1\n",
        "    if  266 <= r[\"Spinbeam_temp\"] <= 268:\n",
        "      spin3 = spin3 +1\n",
        "    if 1000 <= r[\"Roller1_speed\"] <= 1200:\n",
        "      r1s1 = r1s1 +1\n",
        "    if 1501 <= r[\"Roller1_speed\"] <= 3500:\n",
        "      r1s2 = r1s2 +1\n",
        "    if 4039 == r[\"Roller2_speed\"]:\n",
        "      r2s1 = r2s1 +1\n",
        "    if 4140 <= r[\"Roller2_speed\"] <= 4520:\n",
        "      r2s2 = r2s2 +1\n",
        "    if 95 == r[\"Roller2_temp\"]:\n",
        "      r2t1 = r2t1 +1\n",
        "    if 105 == r[\"Roller2_temp\"]:\n",
        "      r2t2 = r2t2 +1\n",
        "    if 4100 == r[\"FR_speed\"]:\n",
        "      frs1 = frs1 +1\n",
        "    if 4200 == r[\"FR_speed\"]:\n",
        "      frs2 = frs2 +1\n",
        "    if 4300 == r[\"FR_speed\"]:\n",
        "      frs3 = frs3 +1\n",
        "    if 4100 == r[\"FR_speed\"]:\n",
        "      frs4 = frs4 +1\n",
        "  print(\"Spinbeam_temp1 \", (spin1/l)*100 , \"%\")\n",
        "  print(\"Spinbeam_temp2 \", (spin2/l)*100 , \"%\")\n",
        "  print(\"Spinbeam_temp3 \", (spin3/l)*100 , \"%\")\n",
        "  print(\"Roller1_speed1 \", (r1s1/l)*100 , \"%\")\n",
        "  print(\"Roller1_speed2 \", (r1s2/l)*100 , \"%\")\n",
        "  print(\"Roller2_speed1 \", (r2s1/l)*100 , \"%\")\n",
        "  print(\"Roller2_speed2 \", (r2s2/l)*100 , \"%\")\n",
        "  print(\"           Roller2_temp1 95 \", (r2t1/l)*100 , \"%\")\n",
        "  print(\"           Roller2_temp2 105 \", (r2t2/l)*100 , \"%\")\n",
        "  print(\"FR_speed1 \", (frs1/l)*100 , \"%\")\n",
        "  print(\"FR_speed2 \", (frs2/l)*100 , \"%\")\n",
        "  print(\"FR_speed3 \", (frs3/l)*100 , \"%\")\n",
        "  print(\"FR_speed4 \", (frs4/l)*100 , \"%\")"
      ]
    },
    {
      "cell_type": "code",
      "execution_count": null,
      "metadata": {
        "colab": {
          "base_uri": "https://localhost:8080/"
        },
        "id": "LC_BXsKpEBSm",
        "outputId": "f6d4bf0d-d305-4837-fe60-103d09f5c1f0"
      },
      "outputs": [
        {
          "name": "stdout",
          "output_type": "stream",
          "text": [
            "Spinbeam_temp1  12.939698492462313 %\n",
            "Spinbeam_temp2  10.42713567839196 %\n",
            "Spinbeam_temp3  10.050251256281408 %\n",
            "Roller1_speed1  2.8894472361809047 %\n",
            "Roller1_speed2  8.417085427135678 %\n",
            "Roller2_speed1  6.532663316582915 %\n",
            "Roller2_speed2  17.964824120603016 %\n",
            "           Roller2_temp1 95  6.909547738693467 %\n",
            "           Roller2_temp2 105  1.1306532663316584 %\n",
            "FR_speed1  1.507537688442211 %\n",
            "FR_speed2  6.532663316582915 %\n",
            "FR_speed3  5.025125628140704 %\n",
            "FR_speed4  1.507537688442211 %\n"
          ]
        }
      ],
      "source": [
        "bal(df)"
      ]
    },
    {
      "cell_type": "code",
      "execution_count": null,
      "metadata": {
        "id": "YMPOqhYjf-Wa"
      },
      "outputs": [],
      "source": [
        "# 각 공정변수의 다수구간, 소수구간 비율을 출력함\n",
        "def major_minor_show(x):\n",
        "  s_major = 0\n",
        "  s_minor = 0\n",
        "  r1s_major = 0\n",
        "  r1s_minor = 0\n",
        "  r2s_major = 0\n",
        "  r2s_minor = 0\n",
        "  r2t_major = 0\n",
        "  r2t_minor = 0\n",
        "  fr_major = 0\n",
        "  fr_minor = 0\n",
        "  for idx, row in x.iterrows():\n",
        "    if 254 <= row['Spinbeam_temp'] <= 261:\n",
        "      s_major += 1\n",
        "    else:\n",
        "      s_minor += 1\n",
        "    if 1000 <= row['Roller1_speed'] <=1200 or 1501 <= row['Roller1_speed']:\n",
        "      r1s_minor += 1\n",
        "    else:\n",
        "      r1s_major += 1\n",
        "    if  row['Roller2_speed'] == 4105:\n",
        "      r2s_major += 1\n",
        "    else:\n",
        "      r2s_minor += 1\n",
        "    if row['Roller2_temp'] == 100:\n",
        "      r2t_major += 1\n",
        "    else:\n",
        "      r2t_minor += 1\n",
        "    if row['FR_speed'] == 4000:\n",
        "      fr_major += 1\n",
        "    else:\n",
        "      fr_minor += 1\n",
        "  \n",
        "  l = x.shape[0]\n",
        "  print(f's : {s_major/l} , {s_minor/l}')\n",
        "  print(f'r1s : {r1s_major/l} , {r1s_minor/l}')\n",
        "  print(f'r2s : {r2s_major/l} , {r2s_minor/l}')\n",
        "  print(f'r2t : {r2t_major/l} , {r2t_minor/l}')\n",
        "  print(f'fr : {fr_major/l} , {fr_minor/l}')\n",
        "  \n",
        "  "
      ]
    },
    {
      "cell_type": "code",
      "execution_count": null,
      "metadata": {
        "colab": {
          "base_uri": "https://localhost:8080/"
        },
        "id": "gVgLwOqalEou",
        "outputId": "2876ebb2-d3a9-4e68-ebfa-3a24ba05d9bb"
      },
      "outputs": [
        {
          "name": "stdout",
          "output_type": "stream",
          "text": [
            "s : 0.7653149266609146 , 0.23468507333908542\n",
            "r1s : 0.7014667817083693 , 0.2985332182916307\n",
            "r2s : 0.5263157894736842 , 0.47368421052631576\n",
            "r2t : 0.7066436583261432 , 0.29335634167385677\n",
            "fr : 0.6704055220017257 , 0.32959447799827435\n"
          ]
        }
      ],
      "source": [
        "roage = pd.read_excel('ro_ag_elongation.xlsx')\n",
        "major_minor_show(roage)"
      ]
    }
  ],
  "metadata": {
    "colab": {
      "provenance": []
    },
    "kernelspec": {
      "display_name": "Python 3.10.2 64-bit",
      "language": "python",
      "name": "python3"
    },
    "language_info": {
      "name": "python",
      "version": "3.10.2"
    },
    "vscode": {
      "interpreter": {
        "hash": "933c949018242cbf6c723973c47a4eda084161eac1b2d6364d7009edd70a1b48"
      }
    }
  },
  "nbformat": 4,
  "nbformat_minor": 0
}
